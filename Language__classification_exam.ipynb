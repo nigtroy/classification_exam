{
  "cells": [
    {
      "cell_type": "code",
      "execution_count": 49,
      "metadata": {
        "tags": [],
        "id": "HeWH73gTD3Vd"
      },
      "outputs": [],
      "source": [
        "import numpy as np # linear algebra\n",
        "import pandas as pd # data processing, CSV file I/O (e.g. pd.read_csv)\n",
        "\n",
        "#Importing String processing libraries\n",
        "import re\n",
        "import string\n",
        "from nltk.tokenize import word_tokenize\n",
        "from nltk.stem import PorterStemmer, WordNetLemmatizer\n",
        "\n",
        "#Importing Dataprocessing and Feature Engineering Libraries\n",
        "from sklearn.feature_extraction.text import CountVectorizer,TfidfVectorizer\n",
        "from sklearn.preprocessing import LabelEncoder\n",
        "from sklearn.preprocessing import MinMaxScaler\n",
        "\n",
        "\n",
        "#Importing Model Building Libraries\n",
        "from sklearn.model_selection import train_test_split\n",
        "from sklearn.model_selection import GridSearchCV\n",
        "from sklearn.linear_model import LogisticRegression\n",
        "from sklearn.naive_bayes import MultinomialNB\n",
        "from sklearn.ensemble import RandomForestClassifier,AdaBoostClassifier\n",
        "from sklearn.tree import DecisionTreeClassifier\n",
        "from sklearn.neighbors import KNeighborsClassifier\n",
        "from sklearn.svm import LinearSVC,SVC\n",
        "from sklearn.ensemble import StackingClassifier,BaggingClassifier\n",
        "from xgboost import XGBClassifier\n",
        "from lightgbm import LGBMClassifier\n",
        "\n",
        "\n",
        "#Importing Scoring Libraries\n",
        "from sklearn import metrics\n",
        "from sklearn.metrics import classification_report\n"
      ]
    },
    {
      "cell_type": "code",
      "execution_count": 50,
      "metadata": {
        "tags": [],
        "colab": {
          "base_uri": "https://localhost:8080/",
          "height": 424
        },
        "id": "M6xeo71eD3Ve",
        "outputId": "b42990ff-da85-4d44-b736-3c211451dfee"
      },
      "outputs": [
        {
          "output_type": "execute_result",
          "data": {
            "text/plain": [
              "      lang_id                                               text\n",
              "0         xho  umgaqo-siseko wenza amalungiselelo kumaziko ax...\n",
              "1         xho  i-dha iya kuba nobulumko bokubeka umsebenzi na...\n",
              "2         eng  the province of kwazulu-natal department of tr...\n",
              "3         nso  o netefatša gore o ba file dilo ka moka tše le...\n",
              "4         ven  khomishini ya ndinganyiso ya mbeu yo ewa maana...\n",
              "...       ...                                                ...\n",
              "32995     tsn  popo ya dipolateforomo tse ke go tlisa boetele...\n",
              "32996     sot  modise mosadi na o ntse o sa utlwe hore thaban...\n",
              "32997     eng  closing date for the submission of completed t...\n",
              "32998     xho  nawuphina umntu ofunyenwe enetyala phantsi kwa...\n",
              "32999     sot  mafapha a mang le ona a lokela ho etsa ditlale...\n",
              "\n",
              "[33000 rows x 2 columns]"
            ],
            "text/html": [
              "\n",
              "  <div id=\"df-0febeaf1-6047-420e-89b9-a08010ca39c4\">\n",
              "    <div class=\"colab-df-container\">\n",
              "      <div>\n",
              "<style scoped>\n",
              "    .dataframe tbody tr th:only-of-type {\n",
              "        vertical-align: middle;\n",
              "    }\n",
              "\n",
              "    .dataframe tbody tr th {\n",
              "        vertical-align: top;\n",
              "    }\n",
              "\n",
              "    .dataframe thead th {\n",
              "        text-align: right;\n",
              "    }\n",
              "</style>\n",
              "<table border=\"1\" class=\"dataframe\">\n",
              "  <thead>\n",
              "    <tr style=\"text-align: right;\">\n",
              "      <th></th>\n",
              "      <th>lang_id</th>\n",
              "      <th>text</th>\n",
              "    </tr>\n",
              "  </thead>\n",
              "  <tbody>\n",
              "    <tr>\n",
              "      <th>0</th>\n",
              "      <td>xho</td>\n",
              "      <td>umgaqo-siseko wenza amalungiselelo kumaziko ax...</td>\n",
              "    </tr>\n",
              "    <tr>\n",
              "      <th>1</th>\n",
              "      <td>xho</td>\n",
              "      <td>i-dha iya kuba nobulumko bokubeka umsebenzi na...</td>\n",
              "    </tr>\n",
              "    <tr>\n",
              "      <th>2</th>\n",
              "      <td>eng</td>\n",
              "      <td>the province of kwazulu-natal department of tr...</td>\n",
              "    </tr>\n",
              "    <tr>\n",
              "      <th>3</th>\n",
              "      <td>nso</td>\n",
              "      <td>o netefatša gore o ba file dilo ka moka tše le...</td>\n",
              "    </tr>\n",
              "    <tr>\n",
              "      <th>4</th>\n",
              "      <td>ven</td>\n",
              "      <td>khomishini ya ndinganyiso ya mbeu yo ewa maana...</td>\n",
              "    </tr>\n",
              "    <tr>\n",
              "      <th>...</th>\n",
              "      <td>...</td>\n",
              "      <td>...</td>\n",
              "    </tr>\n",
              "    <tr>\n",
              "      <th>32995</th>\n",
              "      <td>tsn</td>\n",
              "      <td>popo ya dipolateforomo tse ke go tlisa boetele...</td>\n",
              "    </tr>\n",
              "    <tr>\n",
              "      <th>32996</th>\n",
              "      <td>sot</td>\n",
              "      <td>modise mosadi na o ntse o sa utlwe hore thaban...</td>\n",
              "    </tr>\n",
              "    <tr>\n",
              "      <th>32997</th>\n",
              "      <td>eng</td>\n",
              "      <td>closing date for the submission of completed t...</td>\n",
              "    </tr>\n",
              "    <tr>\n",
              "      <th>32998</th>\n",
              "      <td>xho</td>\n",
              "      <td>nawuphina umntu ofunyenwe enetyala phantsi kwa...</td>\n",
              "    </tr>\n",
              "    <tr>\n",
              "      <th>32999</th>\n",
              "      <td>sot</td>\n",
              "      <td>mafapha a mang le ona a lokela ho etsa ditlale...</td>\n",
              "    </tr>\n",
              "  </tbody>\n",
              "</table>\n",
              "<p>33000 rows × 2 columns</p>\n",
              "</div>\n",
              "      <button class=\"colab-df-convert\" onclick=\"convertToInteractive('df-0febeaf1-6047-420e-89b9-a08010ca39c4')\"\n",
              "              title=\"Convert this dataframe to an interactive table.\"\n",
              "              style=\"display:none;\">\n",
              "        \n",
              "  <svg xmlns=\"http://www.w3.org/2000/svg\" height=\"24px\"viewBox=\"0 0 24 24\"\n",
              "       width=\"24px\">\n",
              "    <path d=\"M0 0h24v24H0V0z\" fill=\"none\"/>\n",
              "    <path d=\"M18.56 5.44l.94 2.06.94-2.06 2.06-.94-2.06-.94-.94-2.06-.94 2.06-2.06.94zm-11 1L8.5 8.5l.94-2.06 2.06-.94-2.06-.94L8.5 2.5l-.94 2.06-2.06.94zm10 10l.94 2.06.94-2.06 2.06-.94-2.06-.94-.94-2.06-.94 2.06-2.06.94z\"/><path d=\"M17.41 7.96l-1.37-1.37c-.4-.4-.92-.59-1.43-.59-.52 0-1.04.2-1.43.59L10.3 9.45l-7.72 7.72c-.78.78-.78 2.05 0 2.83L4 21.41c.39.39.9.59 1.41.59.51 0 1.02-.2 1.41-.59l7.78-7.78 2.81-2.81c.8-.78.8-2.07 0-2.86zM5.41 20L4 18.59l7.72-7.72 1.47 1.35L5.41 20z\"/>\n",
              "  </svg>\n",
              "      </button>\n",
              "      \n",
              "  <style>\n",
              "    .colab-df-container {\n",
              "      display:flex;\n",
              "      flex-wrap:wrap;\n",
              "      gap: 12px;\n",
              "    }\n",
              "\n",
              "    .colab-df-convert {\n",
              "      background-color: #E8F0FE;\n",
              "      border: none;\n",
              "      border-radius: 50%;\n",
              "      cursor: pointer;\n",
              "      display: none;\n",
              "      fill: #1967D2;\n",
              "      height: 32px;\n",
              "      padding: 0 0 0 0;\n",
              "      width: 32px;\n",
              "    }\n",
              "\n",
              "    .colab-df-convert:hover {\n",
              "      background-color: #E2EBFA;\n",
              "      box-shadow: 0px 1px 2px rgba(60, 64, 67, 0.3), 0px 1px 3px 1px rgba(60, 64, 67, 0.15);\n",
              "      fill: #174EA6;\n",
              "    }\n",
              "\n",
              "    [theme=dark] .colab-df-convert {\n",
              "      background-color: #3B4455;\n",
              "      fill: #D2E3FC;\n",
              "    }\n",
              "\n",
              "    [theme=dark] .colab-df-convert:hover {\n",
              "      background-color: #434B5C;\n",
              "      box-shadow: 0px 1px 3px 1px rgba(0, 0, 0, 0.15);\n",
              "      filter: drop-shadow(0px 1px 2px rgba(0, 0, 0, 0.3));\n",
              "      fill: #FFFFFF;\n",
              "    }\n",
              "  </style>\n",
              "\n",
              "      <script>\n",
              "        const buttonEl =\n",
              "          document.querySelector('#df-0febeaf1-6047-420e-89b9-a08010ca39c4 button.colab-df-convert');\n",
              "        buttonEl.style.display =\n",
              "          google.colab.kernel.accessAllowed ? 'block' : 'none';\n",
              "\n",
              "        async function convertToInteractive(key) {\n",
              "          const element = document.querySelector('#df-0febeaf1-6047-420e-89b9-a08010ca39c4');\n",
              "          const dataTable =\n",
              "            await google.colab.kernel.invokeFunction('convertToInteractive',\n",
              "                                                     [key], {});\n",
              "          if (!dataTable) return;\n",
              "\n",
              "          const docLinkHtml = 'Like what you see? Visit the ' +\n",
              "            '<a target=\"_blank\" href=https://colab.research.google.com/notebooks/data_table.ipynb>data table notebook</a>'\n",
              "            + ' to learn more about interactive tables.';\n",
              "          element.innerHTML = '';\n",
              "          dataTable['output_type'] = 'display_data';\n",
              "          await google.colab.output.renderOutput(dataTable, element);\n",
              "          const docLink = document.createElement('div');\n",
              "          docLink.innerHTML = docLinkHtml;\n",
              "          element.appendChild(docLink);\n",
              "        }\n",
              "      </script>\n",
              "    </div>\n",
              "  </div>\n",
              "  "
            ]
          },
          "metadata": {},
          "execution_count": 50
        }
      ],
      "source": [
        "df_train = pd.read_csv('train_set.csv')\n",
        "df_train"
      ]
    },
    {
      "cell_type": "code",
      "source": [
        "df_train.shape"
      ],
      "metadata": {
        "colab": {
          "base_uri": "https://localhost:8080/"
        },
        "id": "VVP1uk0oKyjz",
        "outputId": "418a5dbc-c7f6-4a27-cc61-aa90a57b7448"
      },
      "execution_count": 51,
      "outputs": [
        {
          "output_type": "execute_result",
          "data": {
            "text/plain": [
              "(33000, 2)"
            ]
          },
          "metadata": {},
          "execution_count": 51
        }
      ]
    },
    {
      "cell_type": "code",
      "execution_count": 52,
      "metadata": {
        "tags": [],
        "colab": {
          "base_uri": "https://localhost:8080/",
          "height": 282
        },
        "id": "hnv2U3F2D3Vg",
        "outputId": "76422f83-fb0f-4fd1-d119-3c9595a48566"
      },
      "outputs": [
        {
          "output_type": "execute_result",
          "data": {
            "text/plain": [
              "<matplotlib.axes._subplots.AxesSubplot at 0x7f2f4f91fe90>"
            ]
          },
          "metadata": {},
          "execution_count": 52
        },
        {
          "output_type": "display_data",
          "data": {
            "text/plain": [
              "<Figure size 432x288 with 1 Axes>"
            ],
            "image/png": "[encoded data removed]"
          },
          "metadata": {
            "needs_background": "light"
          }
        }
      ],
      "source": [
        "df_train['lang_id'].value_counts().plot(kind='barh')"
      ]
    },
    {
      "cell_type": "code",
      "execution_count": 53,
      "metadata": {
        "tags": [],
        "id": "2G_P5jYiD3Vg"
      },
      "outputs": [],
      "source": [
        "#Function to clean data before modeling\n",
        "def clean_title(title): \n",
        "    \n",
        "    \n",
        "  #  title = re.sub(r'[,!?;-]+', ' ', title) #Removing any remaining non-characters\n",
        " #   title = re.sub('[%s]' % re.escape(string.punctuation), ' ', title)\n",
        "    title = word_tokenize(title)\n",
        "    title = [word.strip() for word in title if len(word) > 2]\n",
        "    title = ' '.join(title)\n",
        "    \n",
        "    return title "
      ]
    },
    {
      "cell_type": "code",
      "execution_count": 54,
      "metadata": {
        "execution": {
          "iopub.execute_input": "2022-06-24T15:18:35.021501Z",
          "iopub.status.busy": "2022-06-24T15:18:35.020383Z",
          "iopub.status.idle": "2022-06-24T15:18:35.035416Z",
          "shell.execute_reply": "2022-06-24T15:18:35.034662Z",
          "shell.execute_reply.started": "2022-06-24T15:18:35.021428Z"
        },
        "colab": {
          "base_uri": "https://localhost:8080/",
          "height": 53
        },
        "id": "HTo_LkbED3Vh",
        "outputId": "54dbb7fb-7918-4cde-eff0-73c73fa29e92"
      },
      "outputs": [
        {
          "output_type": "execute_result",
          "data": {
            "text/plain": [
              "'i-dha iya kuba nobulumko bokubeka umsebenzi naphi na kwisebe ngokusekwe kwiimfuno zokusebenza zalo emva kokubonana nomsebenzi kunye okanye imanyano yakhe ukuba ulandulo lomntu onjalo alufanelekanga i-dha mayibize uncedo olufanelekileyo elungelweni layo'"
            ],
            "application/vnd.google.colaboratory.intrinsic+json": {
              "type": "string"
            }
          },
          "metadata": {},
          "execution_count": 54
        }
      ],
      "source": [
        "df_train.iloc[1,-1]"
      ]
    },
    {
      "cell_type": "code",
      "source": [
        "import nltk\n",
        "nltk.download('punkt')"
      ],
      "metadata": {
        "colab": {
          "base_uri": "https://localhost:8080/"
        },
        "id": "BbvtyQIvPjXH",
        "outputId": "2bfd2474-8491-49e8-a6c3-a37095fccf50"
      },
      "execution_count": 55,
      "outputs": [
        {
          "output_type": "stream",
          "name": "stderr",
          "text": [
            "[nltk_data] Downloading package punkt to /root/nltk_data...\n",
            "[nltk_data]   Package punkt is already up-to-date!\n"
          ]
        },
        {
          "output_type": "execute_result",
          "data": {
            "text/plain": [
              "True"
            ]
          },
          "metadata": {},
          "execution_count": 55
        }
      ]
    },
    {
      "cell_type": "code",
      "execution_count": 56,
      "metadata": {
        "execution": {
          "iopub.execute_input": "2022-06-24T15:18:35.037802Z",
          "iopub.status.busy": "2022-06-24T15:18:35.036803Z",
          "iopub.status.idle": "2022-06-24T15:18:35.048353Z",
          "shell.execute_reply": "2022-06-24T15:18:35.046839Z",
          "shell.execute_reply.started": "2022-06-24T15:18:35.037768Z"
        },
        "id": "CeQbjAt5D3Vi"
      },
      "outputs": [],
      "source": [
        "term = df_train.iloc[1,-1]"
      ]
    },
    {
      "cell_type": "code",
      "execution_count": 57,
      "metadata": {
        "execution": {
          "iopub.execute_input": "2022-06-24T15:18:35.052562Z",
          "iopub.status.busy": "2022-06-24T15:18:35.051823Z",
          "iopub.status.idle": "2022-06-24T15:18:35.085642Z",
          "shell.execute_reply": "2022-06-24T15:18:35.084521Z",
          "shell.execute_reply.started": "2022-06-24T15:18:35.052527Z"
        },
        "colab": {
          "base_uri": "https://localhost:8080/",
          "height": 53
        },
        "id": "l8QnXfBSD3Vj",
        "outputId": "eb44860b-1320-4d33-dabc-3ba337377074"
      },
      "outputs": [
        {
          "output_type": "execute_result",
          "data": {
            "text/plain": [
              "'i-dha iya kuba nobulumko bokubeka umsebenzi naphi kwisebe ngokusekwe kwiimfuno zokusebenza zalo emva kokubonana nomsebenzi kunye okanye imanyano yakhe ukuba ulandulo lomntu onjalo alufanelekanga i-dha mayibize uncedo olufanelekileyo elungelweni layo'"
            ],
            "application/vnd.google.colaboratory.intrinsic+json": {
              "type": "string"
            }
          },
          "metadata": {},
          "execution_count": 57
        }
      ],
      "source": [
        "clean_title(term)"
      ]
    },
    {
      "cell_type": "code",
      "execution_count": 58,
      "metadata": {
        "tags": [],
        "id": "jsnEDqDgD3Vj"
      },
      "outputs": [],
      "source": [
        "df_copy = df_train.copy()"
      ]
    },
    {
      "cell_type": "code",
      "execution_count": 59,
      "metadata": {
        "tags": [],
        "colab": {
          "base_uri": "https://localhost:8080/",
          "height": 424
        },
        "id": "vQFvea3XD3Vk",
        "outputId": "557e0eb4-6ba3-480c-c951-dcc630849476"
      },
      "outputs": [
        {
          "output_type": "execute_result",
          "data": {
            "text/plain": [
              "      lang_id                                               text  \\\n",
              "0         xho  umgaqo-siseko wenza amalungiselelo kumaziko ax...   \n",
              "1         xho  i-dha iya kuba nobulumko bokubeka umsebenzi na...   \n",
              "2         eng  the province of kwazulu-natal department of tr...   \n",
              "3         nso  o netefatša gore o ba file dilo ka moka tše le...   \n",
              "4         ven  khomishini ya ndinganyiso ya mbeu yo ewa maana...   \n",
              "...       ...                                                ...   \n",
              "32995     tsn  popo ya dipolateforomo tse ke go tlisa boetele...   \n",
              "32996     sot  modise mosadi na o ntse o sa utlwe hore thaban...   \n",
              "32997     eng  closing date for the submission of completed t...   \n",
              "32998     xho  nawuphina umntu ofunyenwe enetyala phantsi kwa...   \n",
              "32999     sot  mafapha a mang le ona a lokela ho etsa ditlale...   \n",
              "\n",
              "                                              clean_term  \n",
              "0      umgaqo-siseko wenza amalungiselelo kumaziko ax...  \n",
              "1      i-dha iya kuba nobulumko bokubeka umsebenzi na...  \n",
              "2      the province kwazulu-natal department transpor...  \n",
              "3      netefatša gore file dilo moka tše dumelelanego...  \n",
              "4      khomishini ndinganyiso mbeu ewa maana nga mula...  \n",
              "...                                                  ...  \n",
              "32995  popo dipolateforomo tse tlisa boeteledipele sa...  \n",
              "32996  modise mosadi ntse utlwe hore thabang rata ike...  \n",
              "32997  closing date for the submission completed tend...  \n",
              "32998  nawuphina umntu ofunyenwe enetyala phantsi kwa...  \n",
              "32999  mafapha mang ona lokela etsa ditlaleho tsa ona...  \n",
              "\n",
              "[33000 rows x 3 columns]"
            ],
            "text/html": [
              "\n",
              "  <div id=\"df-c5654ca7-5de7-46d5-a978-ddc253f59724\">\n",
              "    <div class=\"colab-df-container\">\n",
              "      <div>\n",
              "<style scoped>\n",
              "    .dataframe tbody tr th:only-of-type {\n",
              "        vertical-align: middle;\n",
              "    }\n",
              "\n",
              "    .dataframe tbody tr th {\n",
              "        vertical-align: top;\n",
              "    }\n",
              "\n",
              "    .dataframe thead th {\n",
              "        text-align: right;\n",
              "    }\n",
              "</style>\n",
              "<table border=\"1\" class=\"dataframe\">\n",
              "  <thead>\n",
              "    <tr style=\"text-align: right;\">\n",
              "      <th></th>\n",
              "      <th>lang_id</th>\n",
              "      <th>text</th>\n",
              "      <th>clean_term</th>\n",
              "    </tr>\n",
              "  </thead>\n",
              "  <tbody>\n",
              "    <tr>\n",
              "      <th>0</th>\n",
              "      <td>xho</td>\n",
              "      <td>umgaqo-siseko wenza amalungiselelo kumaziko ax...</td>\n",
              "      <td>umgaqo-siseko wenza amalungiselelo kumaziko ax...</td>\n",
              "    </tr>\n",
              "    <tr>\n",
              "      <th>1</th>\n",
              "      <td>xho</td>\n",
              "      <td>i-dha iya kuba nobulumko bokubeka umsebenzi na...</td>\n",
              "      <td>i-dha iya kuba nobulumko bokubeka umsebenzi na...</td>\n",
              "    </tr>\n",
              "    <tr>\n",
              "      <th>2</th>\n",
              "      <td>eng</td>\n",
              "      <td>the province of kwazulu-natal department of tr...</td>\n",
              "      <td>the province kwazulu-natal department transpor...</td>\n",
              "    </tr>\n",
              "    <tr>\n",
              "      <th>3</th>\n",
              "      <td>nso</td>\n",
              "      <td>o netefatša gore o ba file dilo ka moka tše le...</td>\n",
              "      <td>netefatša gore file dilo moka tše dumelelanego...</td>\n",
              "    </tr>\n",
              "    <tr>\n",
              "      <th>4</th>\n",
              "      <td>ven</td>\n",
              "      <td>khomishini ya ndinganyiso ya mbeu yo ewa maana...</td>\n",
              "      <td>khomishini ndinganyiso mbeu ewa maana nga mula...</td>\n",
              "    </tr>\n",
              "    <tr>\n",
              "      <th>...</th>\n",
              "      <td>...</td>\n",
              "      <td>...</td>\n",
              "      <td>...</td>\n",
              "    </tr>\n",
              "    <tr>\n",
              "      <th>32995</th>\n",
              "      <td>tsn</td>\n",
              "      <td>popo ya dipolateforomo tse ke go tlisa boetele...</td>\n",
              "      <td>popo dipolateforomo tse tlisa boeteledipele sa...</td>\n",
              "    </tr>\n",
              "    <tr>\n",
              "      <th>32996</th>\n",
              "      <td>sot</td>\n",
              "      <td>modise mosadi na o ntse o sa utlwe hore thaban...</td>\n",
              "      <td>modise mosadi ntse utlwe hore thabang rata ike...</td>\n",
              "    </tr>\n",
              "    <tr>\n",
              "      <th>32997</th>\n",
              "      <td>eng</td>\n",
              "      <td>closing date for the submission of completed t...</td>\n",
              "      <td>closing date for the submission completed tend...</td>\n",
              "    </tr>\n",
              "    <tr>\n",
              "      <th>32998</th>\n",
              "      <td>xho</td>\n",
              "      <td>nawuphina umntu ofunyenwe enetyala phantsi kwa...</td>\n",
              "      <td>nawuphina umntu ofunyenwe enetyala phantsi kwa...</td>\n",
              "    </tr>\n",
              "    <tr>\n",
              "      <th>32999</th>\n",
              "      <td>sot</td>\n",
              "      <td>mafapha a mang le ona a lokela ho etsa ditlale...</td>\n",
              "      <td>mafapha mang ona lokela etsa ditlaleho tsa ona...</td>\n",
              "    </tr>\n",
              "  </tbody>\n",
              "</table>\n",
              "<p>33000 rows × 3 columns</p>\n",
              "</div>\n",
              "      <button class=\"colab-df-convert\" onclick=\"convertToInteractive('df-c5654ca7-5de7-46d5-a978-ddc253f59724')\"\n",
              "              title=\"Convert this dataframe to an interactive table.\"\n",
              "              style=\"display:none;\">\n",
              "        \n",
              "  <svg xmlns=\"http://www.w3.org/2000/svg\" height=\"24px\"viewBox=\"0 0 24 24\"\n",
              "       width=\"24px\">\n",
              "    <path d=\"M0 0h24v24H0V0z\" fill=\"none\"/>\n",
              "    <path d=\"M18.56 5.44l.94 2.06.94-2.06 2.06-.94-2.06-.94-.94-2.06-.94 2.06-2.06.94zm-11 1L8.5 8.5l.94-2.06 2.06-.94-2.06-.94L8.5 2.5l-.94 2.06-2.06.94zm10 10l.94 2.06.94-2.06 2.06-.94-2.06-.94-.94-2.06-.94 2.06-2.06.94z\"/><path d=\"M17.41 7.96l-1.37-1.37c-.4-.4-.92-.59-1.43-.59-.52 0-1.04.2-1.43.59L10.3 9.45l-7.72 7.72c-.78.78-.78 2.05 0 2.83L4 21.41c.39.39.9.59 1.41.59.51 0 1.02-.2 1.41-.59l7.78-7.78 2.81-2.81c.8-.78.8-2.07 0-2.86zM5.41 20L4 18.59l7.72-7.72 1.47 1.35L5.41 20z\"/>\n",
              "  </svg>\n",
              "      </button>\n",
              "      \n",
              "  <style>\n",
              "    .colab-df-container {\n",
              "      display:flex;\n",
              "      flex-wrap:wrap;\n",
              "      gap: 12px;\n",
              "    }\n",
              "\n",
              "    .colab-df-convert {\n",
              "      background-color: #E8F0FE;\n",
              "      border: none;\n",
              "      border-radius: 50%;\n",
              "      cursor: pointer;\n",
              "      display: none;\n",
              "      fill: #1967D2;\n",
              "      height: 32px;\n",
              "      padding: 0 0 0 0;\n",
              "      width: 32px;\n",
              "    }\n",
              "\n",
              "    .colab-df-convert:hover {\n",
              "      background-color: #E2EBFA;\n",
              "      box-shadow: 0px 1px 2px rgba(60, 64, 67, 0.3), 0px 1px 3px 1px rgba(60, 64, 67, 0.15);\n",
              "      fill: #174EA6;\n",
              "    }\n",
              "\n",
              "    [theme=dark] .colab-df-convert {\n",
              "      background-color: #3B4455;\n",
              "      fill: #D2E3FC;\n",
              "    }\n",
              "\n",
              "    [theme=dark] .colab-df-convert:hover {\n",
              "      background-color: #434B5C;\n",
              "      box-shadow: 0px 1px 3px 1px rgba(0, 0, 0, 0.15);\n",
              "      filter: drop-shadow(0px 1px 2px rgba(0, 0, 0, 0.3));\n",
              "      fill: #FFFFFF;\n",
              "    }\n",
              "  </style>\n",
              "\n",
              "      <script>\n",
              "        const buttonEl =\n",
              "          document.querySelector('#df-c5654ca7-5de7-46d5-a978-ddc253f59724 button.colab-df-convert');\n",
              "        buttonEl.style.display =\n",
              "          google.colab.kernel.accessAllowed ? 'block' : 'none';\n",
              "\n",
              "        async function convertToInteractive(key) {\n",
              "          const element = document.querySelector('#df-c5654ca7-5de7-46d5-a978-ddc253f59724');\n",
              "          const dataTable =\n",
              "            await google.colab.kernel.invokeFunction('convertToInteractive',\n",
              "                                                     [key], {});\n",
              "          if (!dataTable) return;\n",
              "\n",
              "          const docLinkHtml = 'Like what you see? Visit the ' +\n",
              "            '<a target=\"_blank\" href=https://colab.research.google.com/notebooks/data_table.ipynb>data table notebook</a>'\n",
              "            + ' to learn more about interactive tables.';\n",
              "          element.innerHTML = '';\n",
              "          dataTable['output_type'] = 'display_data';\n",
              "          await google.colab.output.renderOutput(dataTable, element);\n",
              "          const docLink = document.createElement('div');\n",
              "          docLink.innerHTML = docLinkHtml;\n",
              "          element.appendChild(docLink);\n",
              "        }\n",
              "      </script>\n",
              "    </div>\n",
              "  </div>\n",
              "  "
            ]
          },
          "metadata": {},
          "execution_count": 59
        }
      ],
      "source": [
        "df_copy.loc[:,'clean_term'] = df_copy['text'].apply(clean_title)\n",
        "df_copy"
      ]
    },
    {
      "cell_type": "code",
      "execution_count": 59,
      "metadata": {
        "id": "EpObM-6fD3Vl"
      },
      "outputs": [],
      "source": [
        ""
      ]
    },
    {
      "cell_type": "code",
      "execution_count": 60,
      "metadata": {
        "execution": {
          "iopub.execute_input": "2022-06-24T15:18:51.098663Z",
          "iopub.status.busy": "2022-06-24T15:18:51.098344Z",
          "iopub.status.idle": "2022-06-24T15:18:53.788416Z",
          "shell.execute_reply": "2022-06-24T15:18:53.787407Z",
          "shell.execute_reply.started": "2022-06-24T15:18:51.098637Z"
        },
        "id": "nYAgWn-0D3Vl"
      },
      "outputs": [],
      "source": [
        "# # Creating the Bag of Words vectorizer\n",
        "# cv = CountVectorizer(max_features=2500)\n",
        "# X = cv.fit_transform(df_copy.clean_term).toarray()"
      ]
    },
    {
      "cell_type": "code",
      "execution_count": 61,
      "metadata": {
        "execution": {
          "iopub.execute_input": "2022-06-24T15:19:00.028498Z",
          "iopub.status.busy": "2022-06-24T15:19:00.027690Z",
          "iopub.status.idle": "2022-06-24T15:19:00.041127Z",
          "shell.execute_reply": "2022-06-24T15:19:00.040249Z",
          "shell.execute_reply.started": "2022-06-24T15:19:00.028436Z"
        },
        "id": "Dz8Fq2D_D3Vm"
      },
      "outputs": [],
      "source": [
        "#scalar = MinMaxScaler()\n",
        "#X_scaled = scalar.fit_transform(X_tfidf)"
      ]
    },
    {
      "cell_type": "code",
      "execution_count": 62,
      "metadata": {
        "execution": {
          "iopub.execute_input": "2022-06-24T15:18:53.791081Z",
          "iopub.status.busy": "2022-06-24T15:18:53.790312Z",
          "iopub.status.idle": "2022-06-24T15:19:00.018392Z",
          "shell.execute_reply": "2022-06-24T15:19:00.016952Z",
          "shell.execute_reply.started": "2022-06-24T15:18:53.791037Z"
        },
        "colab": {
          "base_uri": "https://localhost:8080/"
        },
        "id": "A1WLDHu_D3Vl",
        "outputId": "606a1962-79f5-45fc-c63a-c73c056853d6"
      },
      "outputs": [
        {
          "output_type": "stream",
          "name": "stdout",
          "text": [
            "Each of the 33000 complaints is represented by 63899 features (TF-IDF score of unigrams and bigrams)\n"
          ]
        }
      ],
      "source": [
        "#Transforming text data into feature matrix\n",
        "tfidf = TfidfVectorizer(sublinear_tf=True, min_df=2,\n",
        "#                        ngram_range=(1,3),\n",
        "                        stop_words='english')\n",
        "# We transform each complaint into a vector\n",
        "X_tfidf = tfidf.fit_transform(df_copy.clean_term)\n",
        "# labels = df_train.sentiment\n",
        "print(\"Each of the %d complaints is represented by %d features (TF-IDF score of unigrams and bigrams)\" %(X_tfidf.shape))"
      ]
    },
    {
      "cell_type": "code",
      "execution_count": 63,
      "metadata": {
        "execution": {
          "iopub.execute_input": "2022-06-24T15:19:00.043122Z",
          "iopub.status.busy": "2022-06-24T15:19:00.042281Z",
          "iopub.status.idle": "2022-06-24T15:19:00.053249Z",
          "shell.execute_reply": "2022-06-24T15:19:00.052213Z",
          "shell.execute_reply.started": "2022-06-24T15:19:00.043091Z"
        },
        "id": "74fyyx2GD3Vn"
      },
      "outputs": [],
      "source": [
        "#Specifying target variables\n",
        "y= df_copy.lang_id"
      ]
    },
    {
      "cell_type": "code",
      "execution_count": 64,
      "metadata": {
        "execution": {
          "iopub.execute_input": "2022-06-24T15:19:27.401053Z",
          "iopub.status.busy": "2022-06-24T15:19:27.400541Z",
          "iopub.status.idle": "2022-06-24T15:19:27.427197Z",
          "shell.execute_reply": "2022-06-24T15:19:27.425700Z",
          "shell.execute_reply.started": "2022-06-24T15:19:27.401007Z"
        },
        "colab": {
          "base_uri": "https://localhost:8080/"
        },
        "id": "uqCA0tUED3Vn",
        "outputId": "09b06dcd-d83d-43e7-a570-d3a7c5e08609"
      },
      "outputs": [
        {
          "output_type": "execute_result",
          "data": {
            "text/plain": [
              "array([9, 9, 1, ..., 1, 9, 4])"
            ]
          },
          "metadata": {},
          "execution_count": 64
        }
      ],
      "source": [
        "#Encoding target variables before modelling\n",
        "encoder = LabelEncoder()\n",
        "y_encoded = encoder.fit_transform(df_copy['lang_id'])\n",
        "y_encoded"
      ]
    },
    {
      "cell_type": "code",
      "execution_count": 65,
      "metadata": {
        "execution": {
          "iopub.execute_input": "2022-06-24T15:19:31.063956Z",
          "iopub.status.busy": "2022-06-24T15:19:31.063560Z",
          "iopub.status.idle": "2022-06-24T15:19:37.752635Z",
          "shell.execute_reply": "2022-06-24T15:19:37.751413Z",
          "shell.execute_reply.started": "2022-06-24T15:19:31.063924Z"
        },
        "id": "su5_ykBiD3Vn"
      },
      "outputs": [],
      "source": [
        "#Spliting data into training and test set before fitting\n",
        "X_train, X_test,y_train,y_test = train_test_split(X_tfidf,\n",
        "                                                  y_encoded,\n",
        "                                                  test_size=0.2,\n",
        "                                                  random_state=0)"
      ]
    },
    {
      "cell_type": "code",
      "execution_count": 65,
      "metadata": {
        "id": "K5nXO-PxD3Vo"
      },
      "outputs": [],
      "source": [
        ""
      ]
    },
    {
      "cell_type": "code",
      "execution_count": 72,
      "metadata": {
        "execution": {
          "iopub.execute_input": "2022-06-24T12:48:33.610835Z",
          "iopub.status.busy": "2022-06-24T12:48:33.609686Z",
          "iopub.status.idle": "2022-06-24T13:18:02.720931Z",
          "shell.execute_reply": "2022-06-24T13:18:02.719596Z",
          "shell.execute_reply.started": "2022-06-24T12:48:33.610795Z"
        },
        "id": "ryRRqTJID3Vo",
        "colab": {
          "base_uri": "https://localhost:8080/",
          "height": 331
        },
        "outputId": "89b24075-ab5a-4510-d35d-22f54ee15d9f"
      },
      "outputs": [
        {
          "output_type": "stream",
          "name": "stdout",
          "text": [
            "Fitting LogisticRegression model...\n",
            "... predicting\n",
            "... scoring\n",
            "Fitting MultinomialNB model...\n",
            "... predicting\n",
            "... scoring\n",
            "Fitting LinearSVC model...\n",
            "... predicting\n",
            "... scoring\n"
          ]
        },
        {
          "output_type": "execute_result",
          "data": {
            "text/plain": [
              "                    Accuracy  Precision    Recall  F1 Train   F1 Test\n",
              "Model                                                                \n",
              "LogisticRegression  0.999205   0.999205  0.999205  0.999205  0.995904\n",
              "MultinomialNB       0.999886   0.999886  0.999886  0.999886  0.999697\n",
              "LinearSVC           1.000000   1.000000  1.000000  1.000000  0.998788"
            ],
            "text/html": [
              "\n",
              "  <div id=\"df-19845315-6359-45a2-8c93-bad957038990\">\n",
              "    <div class=\"colab-df-container\">\n",
              "      <div>\n",
              "<style scoped>\n",
              "    .dataframe tbody tr th:only-of-type {\n",
              "        vertical-align: middle;\n",
              "    }\n",
              "\n",
              "    .dataframe tbody tr th {\n",
              "        vertical-align: top;\n",
              "    }\n",
              "\n",
              "    .dataframe thead th {\n",
              "        text-align: right;\n",
              "    }\n",
              "</style>\n",
              "<table border=\"1\" class=\"dataframe\">\n",
              "  <thead>\n",
              "    <tr style=\"text-align: right;\">\n",
              "      <th></th>\n",
              "      <th>Accuracy</th>\n",
              "      <th>Precision</th>\n",
              "      <th>Recall</th>\n",
              "      <th>F1 Train</th>\n",
              "      <th>F1 Test</th>\n",
              "    </tr>\n",
              "    <tr>\n",
              "      <th>Model</th>\n",
              "      <th></th>\n",
              "      <th></th>\n",
              "      <th></th>\n",
              "      <th></th>\n",
              "      <th></th>\n",
              "    </tr>\n",
              "  </thead>\n",
              "  <tbody>\n",
              "    <tr>\n",
              "      <th>LogisticRegression</th>\n",
              "      <td>0.999205</td>\n",
              "      <td>0.999205</td>\n",
              "      <td>0.999205</td>\n",
              "      <td>0.999205</td>\n",
              "      <td>0.995904</td>\n",
              "    </tr>\n",
              "    <tr>\n",
              "      <th>MultinomialNB</th>\n",
              "      <td>0.999886</td>\n",
              "      <td>0.999886</td>\n",
              "      <td>0.999886</td>\n",
              "      <td>0.999886</td>\n",
              "      <td>0.999697</td>\n",
              "    </tr>\n",
              "    <tr>\n",
              "      <th>LinearSVC</th>\n",
              "      <td>1.000000</td>\n",
              "      <td>1.000000</td>\n",
              "      <td>1.000000</td>\n",
              "      <td>1.000000</td>\n",
              "      <td>0.998788</td>\n",
              "    </tr>\n",
              "  </tbody>\n",
              "</table>\n",
              "</div>\n",
              "      <button class=\"colab-df-convert\" onclick=\"convertToInteractive('df-19845315-6359-45a2-8c93-bad957038990')\"\n",
              "              title=\"Convert this dataframe to an interactive table.\"\n",
              "              style=\"display:none;\">\n",
              "        \n",
              "  <svg xmlns=\"http://www.w3.org/2000/svg\" height=\"24px\"viewBox=\"0 0 24 24\"\n",
              "       width=\"24px\">\n",
              "    <path d=\"M0 0h24v24H0V0z\" fill=\"none\"/>\n",
              "    <path d=\"M18.56 5.44l.94 2.06.94-2.06 2.06-.94-2.06-.94-.94-2.06-.94 2.06-2.06.94zm-11 1L8.5 8.5l.94-2.06 2.06-.94-2.06-.94L8.5 2.5l-.94 2.06-2.06.94zm10 10l.94 2.06.94-2.06 2.06-.94-2.06-.94-.94-2.06-.94 2.06-2.06.94z\"/><path d=\"M17.41 7.96l-1.37-1.37c-.4-.4-.92-.59-1.43-.59-.52 0-1.04.2-1.43.59L10.3 9.45l-7.72 7.72c-.78.78-.78 2.05 0 2.83L4 21.41c.39.39.9.59 1.41.59.51 0 1.02-.2 1.41-.59l7.78-7.78 2.81-2.81c.8-.78.8-2.07 0-2.86zM5.41 20L4 18.59l7.72-7.72 1.47 1.35L5.41 20z\"/>\n",
              "  </svg>\n",
              "      </button>\n",
              "      \n",
              "  <style>\n",
              "    .colab-df-container {\n",
              "      display:flex;\n",
              "      flex-wrap:wrap;\n",
              "      gap: 12px;\n",
              "    }\n",
              "\n",
              "    .colab-df-convert {\n",
              "      background-color: #E8F0FE;\n",
              "      border: none;\n",
              "      border-radius: 50%;\n",
              "      cursor: pointer;\n",
              "      display: none;\n",
              "      fill: #1967D2;\n",
              "      height: 32px;\n",
              "      padding: 0 0 0 0;\n",
              "      width: 32px;\n",
              "    }\n",
              "\n",
              "    .colab-df-convert:hover {\n",
              "      background-color: #E2EBFA;\n",
              "      box-shadow: 0px 1px 2px rgba(60, 64, 67, 0.3), 0px 1px 3px 1px rgba(60, 64, 67, 0.15);\n",
              "      fill: #174EA6;\n",
              "    }\n",
              "\n",
              "    [theme=dark] .colab-df-convert {\n",
              "      background-color: #3B4455;\n",
              "      fill: #D2E3FC;\n",
              "    }\n",
              "\n",
              "    [theme=dark] .colab-df-convert:hover {\n",
              "      background-color: #434B5C;\n",
              "      box-shadow: 0px 1px 3px 1px rgba(0, 0, 0, 0.15);\n",
              "      filter: drop-shadow(0px 1px 2px rgba(0, 0, 0, 0.3));\n",
              "      fill: #FFFFFF;\n",
              "    }\n",
              "  </style>\n",
              "\n",
              "      <script>\n",
              "        const buttonEl =\n",
              "          document.querySelector('#df-19845315-6359-45a2-8c93-bad957038990 button.colab-df-convert');\n",
              "        buttonEl.style.display =\n",
              "          google.colab.kernel.accessAllowed ? 'block' : 'none';\n",
              "\n",
              "        async function convertToInteractive(key) {\n",
              "          const element = document.querySelector('#df-19845315-6359-45a2-8c93-bad957038990');\n",
              "          const dataTable =\n",
              "            await google.colab.kernel.invokeFunction('convertToInteractive',\n",
              "                                                     [key], {});\n",
              "          if (!dataTable) return;\n",
              "\n",
              "          const docLinkHtml = 'Like what you see? Visit the ' +\n",
              "            '<a target=\"_blank\" href=https://colab.research.google.com/notebooks/data_table.ipynb>data table notebook</a>'\n",
              "            + ' to learn more about interactive tables.';\n",
              "          element.innerHTML = '';\n",
              "          dataTable['output_type'] = 'display_data';\n",
              "          await google.colab.output.renderOutput(dataTable, element);\n",
              "          const docLink = document.createElement('div');\n",
              "          docLink.innerHTML = docLinkHtml;\n",
              "          element.appendChild(docLink);\n",
              "        }\n",
              "      </script>\n",
              "    </div>\n",
              "  </div>\n",
              "  "
            ]
          },
          "metadata": {},
          "execution_count": 72
        }
      ],
      "source": [
        "#generic function to fit model and return metrics for every algorithm\n",
        "def boost_models(x):\n",
        "    '''\n",
        "    This function receives a model as a parameter, the target for the mordel is then transformed using the quantile transformer \n",
        "    to transform it. The model is then trained and tested and the Test set. The errors and accuraciers are then computed\n",
        "    and returned as a function response\n",
        "    '''\n",
        "    \n",
        "    #Instantiating model to be used\n",
        "    model = x \n",
        "    algoname= x.__class__.__name__\n",
        "   \n",
        "\n",
        "    print ('Fitting {:s} model...'.format(algoname))\n",
        "    #run_time = %timeit -q -o \n",
        "    model.fit(X_train, y_train)\n",
        "    \n",
        "    \n",
        "    print ('... predicting')\n",
        "    y_pred      = model.predict(X_train)\n",
        "    y_pred_test = model.predict(X_test)\n",
        "    \n",
        "    print ('... scoring')\n",
        "    accuracy  = metrics.accuracy_score(y_train, y_pred)\n",
        "    precision = metrics.precision_score(y_train, y_pred, average='weighted')\n",
        "    recall    = metrics.recall_score(y_train, y_pred, average='weighted')    \n",
        "    f1        = metrics.f1_score(y_train, y_pred, average='weighted')    \n",
        "    f1_test   = metrics.f1_score(y_test, y_pred_test, average='weighted')   \n",
        "    \n",
        "    #Extracting the name of the algorithm\n",
        "    \n",
        "    return algoname, accuracy, precision, recall, f1, f1_test#, run_time.best\n",
        "\n",
        "\n",
        "# # Instantiating base models that will be required by the adaboost regression model\n",
        "# d_tree = DecisionTreeRegressor(max_depth= 7)\n",
        "# lgbr = lgbm.LGBMRegressor()\n",
        "\n",
        "\n",
        "classifiers = [\n",
        "    LogisticRegression(max_iter=10000, multi_class='ovr', solver='liblinear'),\n",
        "    MultinomialNB(),\n",
        "    #KNeighborsClassifier(2),\n",
        "    LinearSVC(penalty='l2',multi_class='ovr'),\n",
        "    \n",
        "    #SVC(kernel=\"linear\", C=0.025),\n",
        "#    SVC(gamma=2, C=1),\n",
        "    DecisionTreeClassifier(max_depth=7),\n",
        "    RandomForestClassifier(max_depth=9, n_estimators=1000),\n",
        "    AdaBoostClassifier(base_estimator=DecisionTreeClassifier())\n",
        "]\n",
        "score=[]\n",
        "\n",
        "for algo in classifiers:\n",
        "    score.append(boost_models(algo))\n",
        "\n",
        " #Collate all scores in a table\n",
        "results = pd.DataFrame(score, columns=['Model', 'Accuracy', 'Precision', 'Recall', 'F1 Train', 'F1 Test'])\n",
        "results.set_index('Model')"
      ]
    },
    {
      "cell_type": "code",
      "execution_count": 34,
      "metadata": {
        "execution": {
          "iopub.execute_input": "2022-06-24T14:55:43.405262Z",
          "iopub.status.busy": "2022-06-24T14:55:43.404722Z",
          "iopub.status.idle": "2022-06-24T14:55:49.708870Z",
          "shell.execute_reply": "2022-06-24T14:55:49.707419Z",
          "shell.execute_reply.started": "2022-06-24T14:55:43.405216Z"
        },
        "colab": {
          "base_uri": "https://localhost:8080/"
        },
        "id": "xANbBw6SD3Vp",
        "outputId": "b6477fc1-dfaa-490f-aa24-7ad11685632b"
      },
      "outputs": [
        {
          "output_type": "execute_result",
          "data": {
            "text/plain": [
              "0.9975932611311673"
            ]
          },
          "metadata": {},
          "execution_count": 34
        }
      ],
      "source": [
        "#Building a Naive bayes Multinomial model as it performed better than other models\n",
        "\n",
        "nv_model =  MultinomialNB()\n",
        "nv_model.fit(X_train,y_train)\n",
        "nv_model.score(X_test,y_test)\n"
      ]
    },
    {
      "cell_type": "code",
      "source": [
        "y_test[0]"
      ],
      "metadata": {
        "colab": {
          "base_uri": "https://localhost:8080/"
        },
        "id": "M4OiEa-0TlF7",
        "outputId": "64eb021e-8527-425d-ce56-bd698b0d7a90"
      },
      "execution_count": 41,
      "outputs": [
        {
          "output_type": "execute_result",
          "data": {
            "text/plain": [
              "9"
            ]
          },
          "metadata": {},
          "execution_count": 41
        }
      ]
    },
    {
      "cell_type": "code",
      "source": [
        "#Building a Linear SVC model\n",
        "svc_model =  LinearSVC(penalty='l2',multi_class='ovr')\n",
        "svc_model.fit(X_train,y_train)\n",
        "svc_model.score(X_test,y_test)"
      ],
      "metadata": {
        "id": "ryFv-PboRhmd"
      },
      "execution_count": null,
      "outputs": []
    },
    {
      "cell_type": "code",
      "source": [
        "#Evaluating LinearSVC model\n"
      ],
      "metadata": {
        "id": "Ewdir7gGRmHK"
      },
      "execution_count": null,
      "outputs": []
    },
    {
      "cell_type": "code",
      "execution_count": null,
      "metadata": {
        "execution": {
          "iopub.execute_input": "2022-06-24T15:05:03.933038Z",
          "iopub.status.busy": "2022-06-24T15:05:03.932587Z"
        },
        "id": "sJHlkyapD3Vq"
      },
      "outputs": [],
      "source": [
        "#Building a random forest regressor model : Hyper parameter tuning\n",
        "rf = RandomForestClassifier()\n",
        "forest_params = [\n",
        "                 {'max_depth': list(range(10, 15)), \n",
        "                  'max_features': list(range(0,14)),\n",
        "                  'criterion' : ['gini', 'entropy', 'log_loss'],\n",
        "                  'n_estimators': list(range(100,1500,100))\n",
        "                 }\n",
        "                ]\n",
        "                  \n",
        "\n",
        "grid_rf_model = GridSearchCV(rf, forest_params, cv =5, scoring='accuracy')\n",
        "grid_rf_model.fit(X_train, y_train) \n",
        "best_param = grid_rf_model.best_params_\n",
        "\n"
      ]
    },
    {
      "cell_type": "code",
      "execution_count": null,
      "metadata": {
        "execution": {
          "iopub.execute_input": "2022-06-24T15:15:04.763441Z",
          "iopub.status.busy": "2022-06-24T15:15:04.762982Z",
          "iopub.status.idle": "2022-06-24T15:15:04.769445Z",
          "shell.execute_reply": "2022-06-24T15:15:04.768523Z",
          "shell.execute_reply.started": "2022-06-24T15:15:04.763401Z"
        },
        "id": "eyTUQZ-nD3Vq"
      },
      "outputs": [],
      "source": [
        "#Building Random forest model with best parameters from grid search\n",
        "rf_model = RandomForestClassifier(\n",
        "                                    random_state=42,\n",
        "                                    n_estimators = best_param['n_estimators'],\n",
        "                                    max_features = best_param['max_features'],\n",
        "                                    max_depth = best_param['max_depth'],\n",
        "                                    criterion = best_param['criterion']\n",
        ")\n",
        "\n",
        "\n",
        "rf_model.fit(X_train, y_train)\n",
        "rf_model.score(X_test, y_test)"
      ]
    },
    {
      "cell_type": "code",
      "execution_count": null,
      "metadata": {
        "execution": {
          "iopub.execute_input": "2022-06-24T15:19:53.685111Z",
          "iopub.status.busy": "2022-06-24T15:19:53.684595Z",
          "iopub.status.idle": "2022-06-24T15:19:53.690556Z",
          "shell.execute_reply": "2022-06-24T15:19:53.689519Z",
          "shell.execute_reply.started": "2022-06-24T15:19:53.685060Z"
        },
        "id": "uBXEV1cSD3Vr"
      },
      "outputs": [],
      "source": [
        "#Building an XGboost classifer\n",
        "xgmodel = XGBClassifier()\n",
        "xgmodel.fit(X_train,y_train)\n",
        "xgmodel.score(X_test,y_test)"
      ]
    },
    {
      "cell_type": "code",
      "source": [
        "#Building an ensemble of best performing models so far using a stacking classifier\n",
        "\n",
        "estimators = [\n",
        "    ('lr', LogisticRegression(max_iter=10000, multi_class='ovr', solver='liblinear')),\n",
        "    ('bayes',  MultinomialNB()),\n",
        "    ('SVM',  LinearSVC(penalty='l2',multi_class='ovr'))\n",
        "]\n",
        "\n",
        "final = LogisticRegression(max_iter=10000, multi_class='ovr', solver='liblinear')\n"
      ],
      "metadata": {
        "id": "NGCsYzoFVDKw"
      },
      "execution_count": null,
      "outputs": []
    },
    {
      "cell_type": "code",
      "source": [
        "#Model training and scoring of stacking classifier\n",
        "st_classifier = StackingClassifier(estimators=estimators, final_estimator=final, cv=5)\n",
        "st_classifier.fit(X_train, y_train)\n",
        "st_classifier.score(X_test, y_test)"
      ],
      "metadata": {
        "id": "vtdbdYrnVDGR"
      },
      "execution_count": null,
      "outputs": []
    },
    {
      "cell_type": "code",
      "source": [
        ""
      ],
      "metadata": {
        "id": "6E_39XhBVXDZ"
      },
      "execution_count": null,
      "outputs": []
    },
    {
      "cell_type": "code",
      "execution_count": null,
      "metadata": {
        "execution": {
          "iopub.execute_input": "2022-06-24T14:51:56.461142Z",
          "iopub.status.busy": "2022-06-24T14:51:56.460737Z",
          "iopub.status.idle": "2022-06-24T14:51:56.503382Z",
          "shell.execute_reply": "2022-06-24T14:51:56.502352Z",
          "shell.execute_reply.started": "2022-06-24T14:51:56.461110Z"
        },
        "id": "dg74GAgmD3Vr"
      },
      "outputs": [],
      "source": [
        "#Reading test data in for submission\n",
        "df_test = pd.read_csv('test_set.csv')"
      ]
    },
    {
      "cell_type": "code",
      "execution_count": null,
      "metadata": {
        "execution": {
          "iopub.execute_input": "2022-06-24T14:51:56.986465Z",
          "iopub.status.busy": "2022-06-24T14:51:56.986053Z",
          "iopub.status.idle": "2022-06-24T14:51:59.081169Z",
          "shell.execute_reply": "2022-06-24T14:51:59.080372Z",
          "shell.execute_reply.started": "2022-06-24T14:51:56.986421Z"
        },
        "colab": {
          "base_uri": "https://localhost:8080/",
          "height": 206
        },
        "id": "AxwX6NR9D3Vs",
        "outputId": "22878fa7-af3c-44c5-b377-efc4243282e3"
      },
      "outputs": [
        {
          "output_type": "execute_result",
          "data": {
            "text/plain": [
              "   index                                               text  \\\n",
              "0      1  Mmasepala, fa maemo a a kgethegileng a letlele...   \n",
              "1      2  Uzakwaziswa ngokufaneleko nakungafuneka eminye...   \n",
              "2      3         Tshivhumbeo tshi fana na ngano dza vhathu.   \n",
              "3      4  Kube inja nelikati betingevakala kutsi titsini...   \n",
              "4      5                      Winste op buitelandse valuta.   \n",
              "\n",
              "                                        cleaned_text  \n",
              "0       Mmasepala maemo kgethegileng letlelela kgato  \n",
              "1  Uzakwaziswa ngokufaneleko nakungafuneka eminye...  \n",
              "2             Tshivhumbeo tshi fana ngano dza vhathu  \n",
              "3  Kube inja nelikati betingevakala kutsi titsini...  \n",
              "4                          Winste buitelandse valuta  "
            ],
            "text/html": [
              "\n",
              "  <div id=\"df-e1af2631-10b4-44ae-8290-f12ba8f319ac\">\n",
              "    <div class=\"colab-df-container\">\n",
              "      <div>\n",
              "<style scoped>\n",
              "    .dataframe tbody tr th:only-of-type {\n",
              "        vertical-align: middle;\n",
              "    }\n",
              "\n",
              "    .dataframe tbody tr th {\n",
              "        vertical-align: top;\n",
              "    }\n",
              "\n",
              "    .dataframe thead th {\n",
              "        text-align: right;\n",
              "    }\n",
              "</style>\n",
              "<table border=\"1\" class=\"dataframe\">\n",
              "  <thead>\n",
              "    <tr style=\"text-align: right;\">\n",
              "      <th></th>\n",
              "      <th>index</th>\n",
              "      <th>text</th>\n",
              "      <th>cleaned_text</th>\n",
              "    </tr>\n",
              "  </thead>\n",
              "  <tbody>\n",
              "    <tr>\n",
              "      <th>0</th>\n",
              "      <td>1</td>\n",
              "      <td>Mmasepala, fa maemo a a kgethegileng a letlele...</td>\n",
              "      <td>Mmasepala maemo kgethegileng letlelela kgato</td>\n",
              "    </tr>\n",
              "    <tr>\n",
              "      <th>1</th>\n",
              "      <td>2</td>\n",
              "      <td>Uzakwaziswa ngokufaneleko nakungafuneka eminye...</td>\n",
              "      <td>Uzakwaziswa ngokufaneleko nakungafuneka eminye...</td>\n",
              "    </tr>\n",
              "    <tr>\n",
              "      <th>2</th>\n",
              "      <td>3</td>\n",
              "      <td>Tshivhumbeo tshi fana na ngano dza vhathu.</td>\n",
              "      <td>Tshivhumbeo tshi fana ngano dza vhathu</td>\n",
              "    </tr>\n",
              "    <tr>\n",
              "      <th>3</th>\n",
              "      <td>4</td>\n",
              "      <td>Kube inja nelikati betingevakala kutsi titsini...</td>\n",
              "      <td>Kube inja nelikati betingevakala kutsi titsini...</td>\n",
              "    </tr>\n",
              "    <tr>\n",
              "      <th>4</th>\n",
              "      <td>5</td>\n",
              "      <td>Winste op buitelandse valuta.</td>\n",
              "      <td>Winste buitelandse valuta</td>\n",
              "    </tr>\n",
              "  </tbody>\n",
              "</table>\n",
              "</div>\n",
              "      <button class=\"colab-df-convert\" onclick=\"convertToInteractive('df-e1af2631-10b4-44ae-8290-f12ba8f319ac')\"\n",
              "              title=\"Convert this dataframe to an interactive table.\"\n",
              "              style=\"display:none;\">\n",
              "        \n",
              "  <svg xmlns=\"http://www.w3.org/2000/svg\" height=\"24px\"viewBox=\"0 0 24 24\"\n",
              "       width=\"24px\">\n",
              "    <path d=\"M0 0h24v24H0V0z\" fill=\"none\"/>\n",
              "    <path d=\"M18.56 5.44l.94 2.06.94-2.06 2.06-.94-2.06-.94-.94-2.06-.94 2.06-2.06.94zm-11 1L8.5 8.5l.94-2.06 2.06-.94-2.06-.94L8.5 2.5l-.94 2.06-2.06.94zm10 10l.94 2.06.94-2.06 2.06-.94-2.06-.94-.94-2.06-.94 2.06-2.06.94z\"/><path d=\"M17.41 7.96l-1.37-1.37c-.4-.4-.92-.59-1.43-.59-.52 0-1.04.2-1.43.59L10.3 9.45l-7.72 7.72c-.78.78-.78 2.05 0 2.83L4 21.41c.39.39.9.59 1.41.59.51 0 1.02-.2 1.41-.59l7.78-7.78 2.81-2.81c.8-.78.8-2.07 0-2.86zM5.41 20L4 18.59l7.72-7.72 1.47 1.35L5.41 20z\"/>\n",
              "  </svg>\n",
              "      </button>\n",
              "      \n",
              "  <style>\n",
              "    .colab-df-container {\n",
              "      display:flex;\n",
              "      flex-wrap:wrap;\n",
              "      gap: 12px;\n",
              "    }\n",
              "\n",
              "    .colab-df-convert {\n",
              "      background-color: #E8F0FE;\n",
              "      border: none;\n",
              "      border-radius: 50%;\n",
              "      cursor: pointer;\n",
              "      display: none;\n",
              "      fill: #1967D2;\n",
              "      height: 32px;\n",
              "      padding: 0 0 0 0;\n",
              "      width: 32px;\n",
              "    }\n",
              "\n",
              "    .colab-df-convert:hover {\n",
              "      background-color: #E2EBFA;\n",
              "      box-shadow: 0px 1px 2px rgba(60, 64, 67, 0.3), 0px 1px 3px 1px rgba(60, 64, 67, 0.15);\n",
              "      fill: #174EA6;\n",
              "    }\n",
              "\n",
              "    [theme=dark] .colab-df-convert {\n",
              "      background-color: #3B4455;\n",
              "      fill: #D2E3FC;\n",
              "    }\n",
              "\n",
              "    [theme=dark] .colab-df-convert:hover {\n",
              "      background-color: #434B5C;\n",
              "      box-shadow: 0px 1px 3px 1px rgba(0, 0, 0, 0.15);\n",
              "      filter: drop-shadow(0px 1px 2px rgba(0, 0, 0, 0.3));\n",
              "      fill: #FFFFFF;\n",
              "    }\n",
              "  </style>\n",
              "\n",
              "      <script>\n",
              "        const buttonEl =\n",
              "          document.querySelector('#df-e1af2631-10b4-44ae-8290-f12ba8f319ac button.colab-df-convert');\n",
              "        buttonEl.style.display =\n",
              "          google.colab.kernel.accessAllowed ? 'block' : 'none';\n",
              "\n",
              "        async function convertToInteractive(key) {\n",
              "          const element = document.querySelector('#df-e1af2631-10b4-44ae-8290-f12ba8f319ac');\n",
              "          const dataTable =\n",
              "            await google.colab.kernel.invokeFunction('convertToInteractive',\n",
              "                                                     [key], {});\n",
              "          if (!dataTable) return;\n",
              "\n",
              "          const docLinkHtml = 'Like what you see? Visit the ' +\n",
              "            '<a target=\"_blank\" href=https://colab.research.google.com/notebooks/data_table.ipynb>data table notebook</a>'\n",
              "            + ' to learn more about interactive tables.';\n",
              "          element.innerHTML = '';\n",
              "          dataTable['output_type'] = 'display_data';\n",
              "          await google.colab.output.renderOutput(dataTable, element);\n",
              "          const docLink = document.createElement('div');\n",
              "          docLink.innerHTML = docLinkHtml;\n",
              "          element.appendChild(docLink);\n",
              "        }\n",
              "      </script>\n",
              "    </div>\n",
              "  </div>\n",
              "  "
            ]
          },
          "metadata": {},
          "execution_count": 21
        }
      ],
      "source": [
        "df_test.loc[:,'cleaned_text'] = df_test['text'].apply(clean_title)\n",
        "df_test.head()"
      ]
    },
    {
      "cell_type": "code",
      "execution_count": null,
      "metadata": {
        "execution": {
          "iopub.execute_input": "2022-06-24T14:51:59.084231Z",
          "iopub.status.busy": "2022-06-24T14:51:59.083143Z",
          "iopub.status.idle": "2022-06-24T14:51:59.382223Z",
          "shell.execute_reply": "2022-06-24T14:51:59.381198Z",
          "shell.execute_reply.started": "2022-06-24T14:51:59.084193Z"
        },
        "id": "LnoTmDVtD3Vs"
      },
      "outputs": [],
      "source": [
        "#Transforming test data using tfidf vectroser  used earlier on\n",
        "X_trial = tfidf.transform(df_test.cleaned_text)"
      ]
    },
    {
      "cell_type": "code",
      "execution_count": null,
      "metadata": {
        "execution": {
          "iopub.execute_input": "2022-06-24T14:53:19.229919Z",
          "iopub.status.busy": "2022-06-24T14:53:19.229515Z",
          "iopub.status.idle": "2022-06-24T14:53:19.237807Z",
          "shell.execute_reply": "2022-06-24T14:53:19.236598Z",
          "shell.execute_reply.started": "2022-06-24T14:53:19.229866Z"
        },
        "id": "ppPmSOGpD3Vs"
      },
      "outputs": [],
      "source": [
        "#Making predictions \n",
        "X_trial_pred = st_classifier.predict(X_trial)"
      ]
    },
    {
      "cell_type": "code",
      "execution_count": null,
      "metadata": {
        "execution": {
          "iopub.execute_input": "2022-06-24T14:53:19.427372Z",
          "iopub.status.busy": "2022-06-24T14:53:19.426641Z",
          "iopub.status.idle": "2022-06-24T14:53:19.433775Z",
          "shell.execute_reply": "2022-06-24T14:53:19.432932Z",
          "shell.execute_reply.started": "2022-06-24T14:53:19.427331Z"
        },
        "colab": {
          "base_uri": "https://localhost:8080/"
        },
        "id": "-ZkCgOQ5D3Vt",
        "outputId": "6bf21ff6-3d8e-41d6-a9e2-cb3f4bda6580"
      },
      "outputs": [
        {
          "output_type": "execute_result",
          "data": {
            "text/plain": [
              "array(['zul', 'nbl', 'zul', ..., 'sot', 'sot', 'zul'], dtype=object)"
            ]
          },
          "metadata": {},
          "execution_count": 36
        }
      ],
      "source": [
        "#decoding target variables for submission\n",
        "y = encoder.inverse_transform(X_trial_pred)\n",
        "y"
      ]
    },
    {
      "cell_type": "code",
      "execution_count": null,
      "metadata": {
        "execution": {
          "iopub.execute_input": "2022-06-24T14:53:19.655052Z",
          "iopub.status.busy": "2022-06-24T14:53:19.654604Z",
          "iopub.status.idle": "2022-06-24T14:53:19.660635Z",
          "shell.execute_reply": "2022-06-24T14:53:19.659696Z",
          "shell.execute_reply.started": "2022-06-24T14:53:19.655012Z"
        },
        "id": "7x1DzW2VD3Vt"
      },
      "outputs": [],
      "source": [
        "df_test.loc[:,'lang_id'] = y"
      ]
    },
    {
      "cell_type": "code",
      "execution_count": null,
      "metadata": {
        "execution": {
          "iopub.execute_input": "2022-06-24T14:53:22.041946Z",
          "iopub.status.busy": "2022-06-24T14:53:22.041320Z",
          "iopub.status.idle": "2022-06-24T14:53:22.048939Z",
          "shell.execute_reply": "2022-06-24T14:53:22.047784Z",
          "shell.execute_reply.started": "2022-06-24T14:53:22.041897Z"
        },
        "id": "zbXSfsAGD3Vt"
      },
      "outputs": [],
      "source": [
        "sub = (df_test[['index','lang_id']]).set_index('index')"
      ]
    },
    {
      "cell_type": "code",
      "execution_count": null,
      "metadata": {
        "execution": {
          "iopub.execute_input": "2022-06-24T14:53:26.577944Z",
          "iopub.status.busy": "2022-06-24T14:53:26.577554Z",
          "iopub.status.idle": "2022-06-24T14:53:26.596241Z",
          "shell.execute_reply": "2022-06-24T14:53:26.595094Z",
          "shell.execute_reply.started": "2022-06-24T14:53:26.577913Z"
        },
        "id": "dB10CSC2D3Vt"
      },
      "outputs": [],
      "source": [
        "sub.to_csv('submission11.csv')"
      ]
    }
  ],
  "metadata": {
    "kernelspec": {
      "display_name": "Python 3 (ipykernel)",
      "language": "python",
      "name": "python3"
    },
    "language_info": {
      "codemirror_mode": {
        "name": "ipython",
        "version": 3
      },
      "file_extension": ".py",
      "mimetype": "text/x-python",
      "name": "python",
      "nbconvert_exporter": "python",
      "pygments_lexer": "ipython3",
      "version": "3.9.12"
    },
    "colab": {
      "name": "Language _classification_exam.ipynb",
      "provenance": [],
      "collapsed_sections": []
    },
    "accelerator": "GPU",
    "gpuClass": "standard"
  },
  "nbformat": 4,
  "nbformat_minor": 0
}